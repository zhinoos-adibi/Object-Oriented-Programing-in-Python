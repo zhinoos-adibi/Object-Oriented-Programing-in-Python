{
  "nbformat": 4,
  "nbformat_minor": 0,
  "metadata": {
    "colab": {
      "name": "object oriented in python.ipynb",
      "provenance": [],
      "authorship_tag": "ABX9TyNaVwqT+zGFNtOplgcPZ3Yc",
      "include_colab_link": true
    },
    "kernelspec": {
      "name": "python3",
      "display_name": "Python 3"
    },
    "language_info": {
      "name": "python"
    }
  },
  "cells": [
    {
      "cell_type": "markdown",
      "metadata": {
        "id": "view-in-github",
        "colab_type": "text"
      },
      "source": [
        "<a href=\"https://colab.research.google.com/github/zhinoos-adibi/Deep-Learning/blob/main/object_oriented_in_python.ipynb\" target=\"_parent\"><img src=\"https://colab.research.google.com/assets/colab-badge.svg\" alt=\"Open In Colab\"/></a>"
      ]
    },
    {
      "cell_type": "markdown",
      "source": [
        "According that object oriented programing is important to build and develop neural networks algorithms, in these codes we review the main concept in object oriented programing in python.\n",
        "\n",
        "The main refrence is w3school\n",
        "\n",
        "**Python Classes/Objects**\n",
        "\n",
        "Python is an object oriented programming language.\n",
        "\n",
        "Almost everything in Python is an object, with its properties and methods.\n",
        "\n",
        "To create a class, use the keyword class:"
      ],
      "metadata": {
        "id": "VGCNZrVADTyf"
      }
    },
    {
      "cell_type": "code",
      "source": [
        "class MyClass:\n",
        "  x = 5\n",
        "\n",
        "print(MyClass)\n"
      ],
      "metadata": {
        "colab": {
          "base_uri": "https://localhost:8080/"
        },
        "id": "PPJt5Sg6Dcga",
        "outputId": "44f781a4-b4dd-462e-fdf0-aa3a833fc14f"
      },
      "execution_count": null,
      "outputs": [
        {
          "output_type": "stream",
          "name": "stdout",
          "text": [
            "<class '__main__.MyClass'>\n"
          ]
        }
      ]
    },
    {
      "cell_type": "code",
      "source": [
        "# Now we can use the class named MyClass to create objects:\n",
        "p1 = MyClass()\n",
        "print(p1.x)\n",
        "\n"
      ],
      "metadata": {
        "id": "3WWhi0Z8EAH-"
      },
      "execution_count": null,
      "outputs": []
    },
    {
      "cell_type": "markdown",
      "source": [
        "The __init__() Function"
      ],
      "metadata": {
        "id": "qkMFNjr-FCvs"
      }
    },
    {
      "cell_type": "markdown",
      "source": [
        "To understand the meaning of classes we have to understand the built-in __init__() function.\n",
        "\n",
        "All classes have a function called __init__(), which is always executed when the class is being initiated.\n",
        "\n",
        "Use the __init__() function to assign values to object properties, or other operations that are necessary to do when the object is being created:\n"
      ],
      "metadata": {
        "id": "G06TZwcNFTEg"
      }
    },
    {
      "cell_type": "code",
      "source": [
        "# define a class\n",
        "class person:\n",
        "  def __init__(self,age,name):\n",
        "    self.namee = name\n",
        "    self.agee = age\n",
        "  "
      ],
      "metadata": {
        "id": "tj-2ivI0FXyR"
      },
      "execution_count": null,
      "outputs": []
    },
    {
      "cell_type": "code",
      "source": [
        "p1 = person(40,\"zhinoos\")"
      ],
      "metadata": {
        "id": "ZTOGnkVLiZXH"
      },
      "execution_count": null,
      "outputs": []
    },
    {
      "cell_type": "code",
      "source": [
        "print(p1.namee,\"\\n\\n\",p1.agee)"
      ],
      "metadata": {
        "colab": {
          "base_uri": "https://localhost:8080/"
        },
        "id": "Gf_J_6bmjCWy",
        "outputId": "a8fdbf56-cc32-479d-b548-951e8f4d3180"
      },
      "execution_count": null,
      "outputs": [
        {
          "output_type": "stream",
          "name": "stdout",
          "text": [
            "zhinoos \n",
            "\n",
            " 40\n"
          ]
        }
      ]
    },
    {
      "cell_type": "markdown",
      "source": [
        "**Object Methods**\n",
        "\n",
        "Objects can also contain methods. Methods in objects are functions that belong to the object.\n",
        "\n",
        "Let us create a method in the Person class:"
      ],
      "metadata": {
        "id": "duH_LcJCkBgf"
      }
    },
    {
      "cell_type": "code",
      "source": [
        "class person:\n",
        "  def __init__(self,age,name):\n",
        "    self.age = age\n",
        "    self.name = name\n",
        "  def myfunc(self):\n",
        "    print(\"my name is\",self.name)\n",
        "# Note: The self parameter is a reference to the current instance of the class, and is used to access variables that belong to the class."
      ],
      "metadata": {
        "id": "06qBCeprkHg3"
      },
      "execution_count": null,
      "outputs": []
    },
    {
      "cell_type": "code",
      "source": [
        "p1 = person(40,\"zhinoos\")\n",
        "p1.myfunc()"
      ],
      "metadata": {
        "colab": {
          "base_uri": "https://localhost:8080/"
        },
        "id": "zbRhqMD_k312",
        "outputId": "bb4097c0-7464-4a76-b31d-acb7d5cfdead"
      },
      "execution_count": null,
      "outputs": [
        {
          "output_type": "stream",
          "name": "stdout",
          "text": [
            "my name is zhinoos\n"
          ]
        }
      ]
    },
    {
      "cell_type": "markdown",
      "source": [
        "It does not have to be named self , you can call it whatever you like, but it has to be the first parameter of any function in the class:"
      ],
      "metadata": {
        "id": "4yTmaFXllwUM"
      }
    },
    {
      "cell_type": "code",
      "source": [
        "class Person:\n",
        "  def __init__(mysillyobject, name, age):\n",
        "    mysillyobject.name = name\n",
        "    mysillyobject.age = age\n",
        "\n",
        "  def myfunc(abc):\n",
        "    print(\"Hello my name is \" + abc.name)\n",
        "\n",
        "p1 = Person(\"John\", 36)\n",
        "p1.myfunc()"
      ],
      "metadata": {
        "colab": {
          "base_uri": "https://localhost:8080/"
        },
        "id": "rBKd_ZEMl0HT",
        "outputId": "0cbc9a23-207d-4b19-e58e-6dfd7a89b49e"
      },
      "execution_count": null,
      "outputs": [
        {
          "output_type": "stream",
          "name": "stdout",
          "text": [
            "Hello my name is John\n"
          ]
        }
      ]
    },
    {
      "cell_type": "markdown",
      "source": [
        "Additional codes which help to make better concept of class and __init__ build in function"
      ],
      "metadata": {
        "id": "VhmbX88eLJdX"
      }
    },
    {
      "cell_type": "code",
      "source": [
        "class Person:\n",
        "  def __init__(self):\n",
        "    self.firstname = \"fname\"\n",
        "    self.lastname = \"lname\"\n",
        "    \n",
        "  def printname(self):\n",
        "    print(self.firstname, self.lastname)\n",
        "    # making the object of Person class\n",
        "c1 = Person()\n",
        "\n"
      ],
      "metadata": {
        "id": "hLPJk6y9Lj_q"
      },
      "execution_count": null,
      "outputs": []
    },
    {
      "cell_type": "code",
      "source": [
        "class Person2:\n",
        "  def __init__(self, fname, lname):\n",
        "    self.firstname = fname\n",
        "    self.lastname = lname\n",
        "    \n",
        "  def printname(self):\n",
        "    print(self.firstname, self.lastname)\n",
        "c2 = Person2()\n",
        "#notice to the error and compare it to last codes, what is difference?"
      ],
      "metadata": {
        "colab": {
          "base_uri": "https://localhost:8080/",
          "height": 219
        },
        "id": "xMZXWoqFL78Y",
        "outputId": "d082ecfc-ab7c-4c8c-92c0-85b6a8e33429"
      },
      "execution_count": null,
      "outputs": [
        {
          "output_type": "error",
          "ename": "TypeError",
          "evalue": "ignored",
          "traceback": [
            "\u001b[0;31m---------------------------------------------------------------------------\u001b[0m",
            "\u001b[0;31mTypeError\u001b[0m                                 Traceback (most recent call last)",
            "\u001b[0;32m<ipython-input-3-7fb55b0d5c17>\u001b[0m in \u001b[0;36m<module>\u001b[0;34m()\u001b[0m\n\u001b[1;32m      6\u001b[0m   \u001b[0;32mdef\u001b[0m \u001b[0mprintname\u001b[0m\u001b[0;34m(\u001b[0m\u001b[0mself\u001b[0m\u001b[0;34m)\u001b[0m\u001b[0;34m:\u001b[0m\u001b[0;34m\u001b[0m\u001b[0;34m\u001b[0m\u001b[0m\n\u001b[1;32m      7\u001b[0m     \u001b[0mprint\u001b[0m\u001b[0;34m(\u001b[0m\u001b[0mself\u001b[0m\u001b[0;34m.\u001b[0m\u001b[0mfirstname\u001b[0m\u001b[0;34m,\u001b[0m \u001b[0mself\u001b[0m\u001b[0;34m.\u001b[0m\u001b[0mlastname\u001b[0m\u001b[0;34m)\u001b[0m\u001b[0;34m\u001b[0m\u001b[0;34m\u001b[0m\u001b[0m\n\u001b[0;32m----> 8\u001b[0;31m \u001b[0mc2\u001b[0m \u001b[0;34m=\u001b[0m \u001b[0mPerson2\u001b[0m\u001b[0;34m(\u001b[0m\u001b[0;34m)\u001b[0m\u001b[0;34m\u001b[0m\u001b[0;34m\u001b[0m\u001b[0m\n\u001b[0m\u001b[1;32m      9\u001b[0m \u001b[0;31m#notice to the error and compare it to last codes, what is difference?\u001b[0m\u001b[0;34m\u001b[0m\u001b[0;34m\u001b[0m\u001b[0;34m\u001b[0m\u001b[0m\n",
            "\u001b[0;31mTypeError\u001b[0m: __init__() missing 2 required positional arguments: 'fname' and 'lname'"
          ]
        }
      ]
    },
    {
      "cell_type": "code",
      "source": [
        "c2 = Person2(\"zhinoos\",\"adibi\")\n",
        "#we debug the error"
      ],
      "metadata": {
        "id": "Wqc0GD-xLtBH"
      },
      "execution_count": null,
      "outputs": []
    },
    {
      "cell_type": "code",
      "source": [
        "# Create a class named Person, with firstname and lastname properties, and a printname method:\n",
        "class Person:\n",
        "  def __init__(self, fname, lname):\n",
        "    self.firstname = fname\n",
        "    self.lastname = lname\n",
        "\n",
        "  def printname(self):\n",
        "    print(self.firstname, self.lastname)\n",
        "\n",
        "#Use the Person class to create an object, and then execute the printname method:\n",
        "\n",
        "x = Person(\"John\", \"Doe\")\n",
        "x.printname()\n",
        "\n",
        "\n",
        "\n"
      ],
      "metadata": {
        "colab": {
          "base_uri": "https://localhost:8080/"
        },
        "id": "IHo9HY02VWhV",
        "outputId": "b7cecdfa-b7b9-49b9-8191-4e94eb0c616a"
      },
      "execution_count": null,
      "outputs": [
        {
          "output_type": "stream",
          "name": "stdout",
          "text": [
            "John Doe\n"
          ]
        }
      ]
    },
    {
      "cell_type": "code",
      "source": [
        "# Create a Child Class\n",
        "# To create a class that inherits the functionality from another class, send the parent class as a parameter when creating the child class:\n",
        "\n",
        "\n",
        "\n"
      ],
      "metadata": {
        "id": "2PuDK6wOV7P0"
      },
      "execution_count": null,
      "outputs": []
    },
    {
      "cell_type": "code",
      "source": [
        "# Create a class named Student, which will inherit the properties and methods from the Person class:\n",
        "\n",
        "class student(Person):\n",
        "  pass\n",
        "  # Note: Use the pass keyword when you do not want to add any other properties or methods to the class."
      ],
      "metadata": {
        "id": "EPKhckJKWHt1"
      },
      "execution_count": null,
      "outputs": []
    },
    {
      "cell_type": "code",
      "source": [
        "# Use the Student class to create an object, and then execute the printname method:\n",
        "\n",
        "x = student(\"Mike\", \"Olsen\")\n",
        "x.printname()"
      ],
      "metadata": {
        "colab": {
          "base_uri": "https://localhost:8080/"
        },
        "id": "8ZcJ77KIWWld",
        "outputId": "cca28585-9ede-401b-b568-b5ac062602f7"
      },
      "execution_count": null,
      "outputs": [
        {
          "output_type": "stream",
          "name": "stdout",
          "text": [
            "Mike Olsen\n"
          ]
        }
      ]
    },
    {
      "cell_type": "code",
      "source": [
        "# Add the __init__() Function\n",
        "# So far we have created a child class that inherits the properties and methods from its parent.\n",
        "\n",
        "# We want to add the __init__() function to the child class (instead of the pass keyword).\n",
        "\n",
        "# Note: The __init__() function is called automatically every time the class is being used to create a new object."
      ],
      "metadata": {
        "id": "9oiXsKlcWWoG"
      },
      "execution_count": null,
      "outputs": []
    },
    {
      "cell_type": "code",
      "source": [
        "# Add the __init__() Function\n",
        "# So far we have created a child class that inherits the properties and methods from its parent.\n",
        "\n",
        "# We want to add the __init__() function to the child class (instead of the pass keyword).\n",
        "\n",
        "# Note: The __init__() function is called automatically every time the class is being used to create a new object.\n",
        "\n"
      ],
      "metadata": {
        "id": "4ZPo82AcW6Bw"
      },
      "execution_count": null,
      "outputs": []
    },
    {
      "cell_type": "code",
      "source": [
        ""
      ],
      "metadata": {
        "id": "laclVyDIZIdb"
      },
      "execution_count": null,
      "outputs": []
    },
    {
      "cell_type": "code",
      "source": [
        "# When you add the __init__() function, the child class will no longer inherit the parent's __init__() function.\n",
        "\n",
        "# Note: The child's __init__() function overrides the inheritance of the parent's __init__() function.\n",
        "\n",
        "# To keep the inheritance of the parent's __init__() function, add a call to the parent's __init__() function:"
      ],
      "metadata": {
        "id": "w3VFzDxZWWq2"
      },
      "execution_count": null,
      "outputs": []
    },
    {
      "cell_type": "code",
      "source": [
        "class Person:\n",
        "  def __init__(self, fname, lname):\n",
        "    self.firstname = fname\n",
        "    self.lastname = lname\n",
        "\n",
        "  def printname(self):\n",
        "    print(self.firstname, self.lastname)\n",
        "\n",
        "class Student(Person):\n",
        "  def __init__(self, fname, lname):\n",
        "    Person.__init__(self, fname, lname)\n",
        "\n",
        "x = Student(\"Mike\", \"Olsen\")\n",
        "x.printname()"
      ],
      "metadata": {
        "colab": {
          "base_uri": "https://localhost:8080/"
        },
        "id": "JhNpPpXSZlzv",
        "outputId": "41680881-6d75-453f-9fc8-83f17a35307c"
      },
      "execution_count": null,
      "outputs": [
        {
          "output_type": "stream",
          "name": "stdout",
          "text": [
            "Mike Olsen\n"
          ]
        }
      ]
    },
    {
      "cell_type": "code",
      "source": [
        ""
      ],
      "metadata": {
        "id": "us6lkEPWZ4vX"
      },
      "execution_count": null,
      "outputs": []
    },
    {
      "cell_type": "markdown",
      "source": [
        "**Use the super() Function**\n",
        "\n",
        "\n",
        "Python also has a super() function that will make the child class inherit all the methods and properties from its parent:\n",
        "\n",
        "By using the super() function, you do not have to use the name of the parent element, it will automatically inherit the methods and properties from its parent.\n",
        "\n"
      ],
      "metadata": {
        "id": "M549_eiCDYjE"
      }
    },
    {
      "cell_type": "code",
      "source": [
        "class Person:\n",
        "  def __init__(self, fname, lname):\n",
        "    self.firstname = fname\n",
        "    self.lastname = lname\n",
        "\n",
        "  def printname(self):\n",
        "    print(self.firstname, self.lastname)\n",
        "\n",
        "class Student(Person):\n",
        "  def __init__(self, fname, lname):\n",
        "    super().__init__(fname, lname)\n",
        "\n",
        "x = Student(\"Mike\", \"Olsen\")\n",
        "x.printname()\n",
        "# By using the super() function, you do not have to use the name of the parent element,\n",
        "#  it will automatically inherit the methods and properties from its parent."
      ],
      "metadata": {
        "colab": {
          "base_uri": "https://localhost:8080/"
        },
        "id": "eI-eOJncZ38m",
        "outputId": "50e2a11a-3497-4b07-c547-067788e821cd"
      },
      "execution_count": null,
      "outputs": [
        {
          "output_type": "stream",
          "name": "stdout",
          "text": [
            "Mike Olsen\n"
          ]
        }
      ]
    },
    {
      "cell_type": "code",
      "source": [
        "# Add a property called graduationyear to the Student class:"
      ],
      "metadata": {
        "id": "sxR5QwvoDbpI"
      },
      "execution_count": null,
      "outputs": []
    },
    {
      "cell_type": "code",
      "source": [
        "class Person:\n",
        "  def __init__(self, fname, lname):\n",
        "    self.firstname = fname\n",
        "    self.lastname = lname\n",
        "\n",
        "  def printname(self):\n",
        "    print(self.firstname, self.lastname)\n",
        "\n",
        "class Student(Person):\n",
        "  def __init__(self, fname, lname):\n",
        "    super().__init__(fname, lname)\n",
        "    self.graduationyear = 2019\n",
        "\n",
        "x = Student(\"Mike\", \"Olsen\")\n",
        "print(x.graduationyear)\n"
      ],
      "metadata": {
        "id": "QGkKQW69dIvu"
      },
      "execution_count": null,
      "outputs": []
    },
    {
      "cell_type": "code",
      "source": [
        "# Example\n",
        "# Add a year parameter, and pass the correct year when creating objects:\n",
        "\n",
        "class Student(Person):\n",
        "  def __init__(self, fname, lname, year):\n",
        "    super().__init__(fname, lname)\n",
        "    self.graduationyear = year\n",
        "\n",
        "x = Student(\"Mike\", \"Olsen\", 2019)"
      ],
      "metadata": {
        "id": "dN5bymRtdYOg"
      },
      "execution_count": null,
      "outputs": []
    },
    {
      "cell_type": "code",
      "source": [
        "class Person:\n",
        "  def __init__(self, fname, lname):\n",
        "    self.firstname = fname\n",
        "    self.lastname = lname\n",
        "\n",
        "  def printname(self):\n",
        "    print(self.firstname, self.lastname)\n",
        "\n",
        "class Student(Person):\n",
        "  def __init__(self, fname, lname, year):\n",
        "    super().__init__(fname, lname)\n",
        "    self.graduationyear = year\n",
        "\n",
        "x = Student(\"Mike\", \"Olsen\", 2019)\n",
        "print(x.graduationyear)\n"
      ],
      "metadata": {
        "id": "LCiFz_JFdapp"
      },
      "execution_count": null,
      "outputs": []
    },
    {
      "cell_type": "code",
      "source": [
        "# Add Methods\n",
        "# Example\n",
        "# Add a method called welcome to the Student class:\n",
        "\n",
        "class Student(Person):\n",
        "  def __init__(self, fname, lname, year):\n",
        "    super().__init__(fname, lname)\n",
        "    self.graduationyear = year\n",
        "\n",
        "  def welcome(self):\n",
        "    print(\"Welcome\", self.firstname, self.lastname, \"to the class of\", self.graduationyear)\n"
      ],
      "metadata": {
        "id": "GIZBlU79dhpM"
      },
      "execution_count": null,
      "outputs": []
    },
    {
      "cell_type": "code",
      "source": [
        "class Person:\n",
        "  def __init__(self, fname, lname):\n",
        "    self.firstname = fname\n",
        "    self.lastname = lname\n",
        "\n",
        "  def printname(self):\n",
        "    print(self.firstname, self.lastname)\n",
        "\n",
        "class Student(Person):\n",
        "  def __init__(self, fname, lname, year):\n",
        "    super().__init__(fname, lname)\n",
        "    self.graduationyear = year\n",
        "\n",
        "  def welcome(self):\n",
        "    print(\"Welcome\", self.firstname, self.lastname, \"to the class of\", self.graduationyear)\n",
        "\n",
        "x = Student(\"Mike\", \"Olsen\", 2019)\n",
        "x.welcome()\n"
      ],
      "metadata": {
        "id": "N6-EbzRpdmAo"
      },
      "execution_count": null,
      "outputs": []
    },
    {
      "cell_type": "code",
      "source": [
        "# If you add a method in the child class with the same name as a function in the parent class,\n",
        "#  the inheritance of the parent method will be overridden.\n",
        "\n"
      ],
      "metadata": {
        "id": "He50n77OdoKD"
      },
      "execution_count": null,
      "outputs": []
    },
    {
      "cell_type": "code",
      "source": [
        ""
      ],
      "metadata": {
        "id": "KOzWAGdXd0EU"
      },
      "execution_count": null,
      "outputs": []
    }
  ]
}